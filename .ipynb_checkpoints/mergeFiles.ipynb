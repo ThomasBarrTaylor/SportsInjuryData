{
 "cells": [
  {
   "cell_type": "code",
   "execution_count": 43,
   "metadata": {},
   "outputs": [],
   "source": [
    "import pandas as pd"
   ]
  },
  {
   "cell_type": "code",
   "execution_count": null,
   "metadata": {},
   "outputs": [],
   "source": [
    "def to_csv(array,file):\n",
    "    df = pd.DataFrame(array,columns=[\"Player First Name\",\"Player Last Name\", \"Position\", \"Season\",\"Age\",\"Team\",\"League\",\n",
    "                  \"Games Played\",\"Goals\",\"Assists\",\"Points\",\"+/-\",\"Penalties in Minutes\",\"Even Strength Goals\",\"Power Play Goals\",\"Short Handed Goals\",\n",
    "                  \"Game-Winning Goals\",\"Even Strength Assists\",\"Power Play Assists\",\"Short-Handed Assists\",\"Shots On Goals\",\"Shooting Percentage\",\"Total Shoot Assists\",\n",
    "                  \"Time on Minutes\",\"Average Time on Ice\",\"Faceoff Wins\",\"Faceoff Losses\",\"Faceoff Percentage\",\"Blocks\",\"Hits\",\"Takeaways\",\"Giveaways\",\"Awards\",\"Injury Time\",\"Total Time Out This Year\",\"Injury Description\"])\n",
    "    df.to_csv(file, encoding = 'utf-8-sig' )"
   ]
  },
  {
   "cell_type": "code",
   "execution_count": 44,
   "metadata": {},
   "outputs": [],
   "source": [
    "injury_data = []\n",
    "total_data = []\n",
    "total_data_append = pd.DataFrame()\n",
    "with open('yearly_data_above_zero.csv', mode='r',encoding=\"utf8\") as file:\n",
    "    injury_data = pd.read_csv(file)\n",
    "with open('yearly_data.csv', mode='r',encoding=\"utf8\") as file:\n",
    "    total_data = pd.read_csv(file)"
   ]
  },
  {
   "cell_type": "code",
   "execution_count": 45,
   "metadata": {},
   "outputs": [
    {
     "name": "stdout",
     "output_type": "stream",
     "text": [
      "      Unnamed: 0_x Player First Name Player Last Name Position_x Season_x  \\\n",
      "0              0.0             Calen          Addison          D  2021-22   \n",
      "1              1.0            Andrew         Agozzino         LW  2021-22   \n",
      "2              2.0              Jack            Ahcan          D  2021-22   \n",
      "3              3.0         Sebastian              Aho          F  2021-22   \n",
      "4              4.0         Sebastian              Aho          D  2021-22   \n",
      "...            ...               ...              ...        ...      ...   \n",
      "1024           NaN             Chris          Tierney        NaN      NaN   \n",
      "1025           NaN               Joe          Snively        NaN      NaN   \n",
      "1026           NaN              Ryan         Poehling        NaN      NaN   \n",
      "1027           NaN          Nicholas        Abruzzese        NaN      NaN   \n",
      "1028           NaN              Sean          Monahan        NaN      NaN   \n",
      "\n",
      "      Age_x Team_x League_x  Games Played_x  Goals_x  ...  Faceoff Losses_y  \\\n",
      "0      21.0    MIN      NHL            15.0      2.0  ...               NaN   \n",
      "1      31.0    OTT      NHL             1.0      0.0  ...               NaN   \n",
      "2      24.0    BOS      NHL             6.0      1.0  ...               NaN   \n",
      "3      24.0    CAR      NHL            79.0     37.0  ...               NaN   \n",
      "4      25.0    NYI      NHL            36.0      2.0  ...               NaN   \n",
      "...     ...    ...      ...             ...      ...  ...               ...   \n",
      "1024    NaN    NaN      NaN             NaN      NaN  ...             267.0   \n",
      "1025    NaN    NaN      NaN             NaN      NaN  ...               1.0   \n",
      "1026    NaN    NaN      NaN             NaN      NaN  ...             262.0   \n",
      "1027    NaN    NaN      NaN             NaN      NaN  ...               5.0   \n",
      "1028    NaN    NaN      NaN             NaN      NaN  ...             365.0   \n",
      "\n",
      "      Faceoff Percentage_y  Blocks_y  Hits_y  Takeaways_y  Giveaways_y  \\\n",
      "0                      NaN       NaN     NaN          NaN          NaN   \n",
      "1                      NaN       NaN     NaN          NaN          NaN   \n",
      "2                      NaN       NaN     NaN          NaN          NaN   \n",
      "3                      NaN       NaN     NaN          NaN          NaN   \n",
      "4                      NaN       NaN     NaN          NaN          NaN   \n",
      "...                    ...       ...     ...          ...          ...   \n",
      "1024                  49.7      30.0    42.0         23.0         34.0   \n",
      "1025                   0.0       3.0     2.0          7.0          1.0   \n",
      "1026                  46.4      28.0    40.0         21.0         24.0   \n",
      "1027                  28.6       3.0     7.0          0.0          3.0   \n",
      "1028                  53.1      24.0    59.0         32.0         28.0   \n",
      "\n",
      "      Awards_y  Injury Time_y  Total Time Out This Year_y  \\\n",
      "0          NaN            NaN                         NaN   \n",
      "1          NaN            NaN                         NaN   \n",
      "2          NaN            NaN                         NaN   \n",
      "3          NaN            NaN                         NaN   \n",
      "4          NaN            NaN                         NaN   \n",
      "...        ...            ...                         ...   \n",
      "1024       NaN             14                        14.0   \n",
      "1025       NaN            115                       115.0   \n",
      "1026       NaN             18                        18.0   \n",
      "1027       NaN              5                         5.0   \n",
      "1028       NaN             85                        85.0   \n",
      "\n",
      "                                   Injury Description_y  \n",
      "0                                                   NaN  \n",
      "1                                                   NaN  \n",
      "2                                                   NaN  \n",
      "3                                                   NaN  \n",
      "4                                                   NaN  \n",
      "...                                                 ...  \n",
      "1024             ' placed on IR with lower body injury'  \n",
      "1025  ' placed on IR with surgery on left wrist (out...  \n",
      "1026             ' placed on IR with upper body injury'  \n",
      "1027                       ' placed on non-roster list'  \n",
      "1028  ' placed on IR with surgery on hip (out for se...  \n",
      "\n",
      "[1029 rows x 72 columns]\n"
     ]
    }
   ],
   "source": [
    "merged_data = pd.merge(total_data, injury_data, how='outer', on=['Player First Name','Player Last Name'])\n",
    "print(merged_data)\n",
    "to_csv(merged_data,\"player_data.csv\")"
   ]
  }
 ],
 "metadata": {
  "kernelspec": {
   "display_name": "Python 3",
   "language": "python",
   "name": "python3"
  },
  "language_info": {
   "codemirror_mode": {
    "name": "ipython",
    "version": 3
   },
   "file_extension": ".py",
   "mimetype": "text/x-python",
   "name": "python",
   "nbconvert_exporter": "python",
   "pygments_lexer": "ipython3",
   "version": "3.11.5"
  }
 },
 "nbformat": 4,
 "nbformat_minor": 2
}
